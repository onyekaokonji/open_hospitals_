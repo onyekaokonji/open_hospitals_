{
 "cells": [
  {
   "cell_type": "markdown",
   "metadata": {},
   "source": [
    "### imports"
   ]
  },
  {
   "cell_type": "code",
   "execution_count": 1,
   "metadata": {},
   "outputs": [],
   "source": [
    "import os\n",
    "from dotenv import load_dotenv\n",
    "\n",
    "import pandas as pd\n",
    "import numpy as np\n",
    "import matplotlib.pyplot as plt \n",
    "import seaborn as sns\n",
    "\n",
    "from google.oauth2 import service_account\n",
    "from ebmdatalab import bq"
   ]
  },
  {
   "cell_type": "markdown",
   "metadata": {},
   "source": [
    "### data extraction"
   ]
  },
  {
   "cell_type": "code",
   "execution_count": 2,
   "metadata": {},
   "outputs": [],
   "source": [
    "load_dotenv()\n",
    "\n",
    "credentials = os.environ[\"EBMDATALAB_BQ_CREDENTIALS_PATH\"]\n",
    "\n",
    "PROJECT_ID = \"ebmdatalab\"\n",
    "\n",
    "credentials = service_account.Credentials.from_service_account_file(credentials)"
   ]
  },
  {
   "cell_type": "code",
   "execution_count": 3,
   "metadata": {},
   "outputs": [],
   "source": [
    "flumazenil_query = f\"SELECT * FROM scmd.scmd_full WHERE vmp_name LIKE '%Flumazenil%'\"\n",
    "\n",
    "df_flumazenil = bq.cached_read(sql=flumazenil_query, csv_path=\"../data/scmd_flumazenil.csv\", use_cache=True)"
   ]
  },
  {
   "cell_type": "code",
   "execution_count": 4,
   "metadata": {},
   "outputs": [
    {
     "data": {
      "text/html": [
       "<div>\n",
       "<style scoped>\n",
       "    .dataframe tbody tr th:only-of-type {\n",
       "        vertical-align: middle;\n",
       "    }\n",
       "\n",
       "    .dataframe tbody tr th {\n",
       "        vertical-align: top;\n",
       "    }\n",
       "\n",
       "    .dataframe thead th {\n",
       "        text-align: right;\n",
       "    }\n",
       "</style>\n",
       "<table border=\"1\" class=\"dataframe\">\n",
       "  <thead>\n",
       "    <tr style=\"text-align: right;\">\n",
       "      <th></th>\n",
       "      <th>year_month</th>\n",
       "      <th>indicative_cost</th>\n",
       "      <th>quantity</th>\n",
       "      <th>uom</th>\n",
       "      <th>ods_code</th>\n",
       "      <th>ods_name</th>\n",
       "      <th>region</th>\n",
       "      <th>vmp_code</th>\n",
       "      <th>vtm</th>\n",
       "      <th>vtm_name</th>\n",
       "      <th>...</th>\n",
       "      <th>unit_dose_uom</th>\n",
       "      <th>dform_form</th>\n",
       "      <th>vmp_name</th>\n",
       "      <th>ing</th>\n",
       "      <th>strnt_nmrtr_val</th>\n",
       "      <th>strnt_dnmtr_val</th>\n",
       "      <th>strnt_nmrtr_uom_name</th>\n",
       "      <th>strnt_dnmtr_uom_name</th>\n",
       "      <th>ing_nm</th>\n",
       "      <th>droute_description</th>\n",
       "    </tr>\n",
       "  </thead>\n",
       "  <tbody>\n",
       "    <tr>\n",
       "      <th>9056</th>\n",
       "      <td>2021-07-01</td>\n",
       "      <td>700.0</td>\n",
       "      <td>250.0</td>\n",
       "      <td>ML</td>\n",
       "      <td>RYR</td>\n",
       "      <td>Western Sussex Hospitals NHS Foundation Trust</td>\n",
       "      <td>South East</td>\n",
       "      <td>36067711000001104</td>\n",
       "      <td>775985005</td>\n",
       "      <td>Flumazenil</td>\n",
       "      <td>...</td>\n",
       "      <td>ampoule</td>\n",
       "      <td>Solution for injection</td>\n",
       "      <td>Flumazenil 500micrograms/5ml solution for inje...</td>\n",
       "      <td>387575000</td>\n",
       "      <td>100.0</td>\n",
       "      <td>1.0</td>\n",
       "      <td>microgram</td>\n",
       "      <td>ml</td>\n",
       "      <td>Flumazenil</td>\n",
       "      <td>Intravenous</td>\n",
       "    </tr>\n",
       "    <tr>\n",
       "      <th>9057</th>\n",
       "      <td>2023-05-01</td>\n",
       "      <td>3920.0</td>\n",
       "      <td>1400.0</td>\n",
       "      <td>ML</td>\n",
       "      <td>RYR</td>\n",
       "      <td>Western Sussex Hospitals NHS Foundation Trust</td>\n",
       "      <td>South East</td>\n",
       "      <td>36067711000001104</td>\n",
       "      <td>775985005</td>\n",
       "      <td>Flumazenil</td>\n",
       "      <td>...</td>\n",
       "      <td>ampoule</td>\n",
       "      <td>Solution for injection</td>\n",
       "      <td>Flumazenil 500micrograms/5ml solution for inje...</td>\n",
       "      <td>387575000</td>\n",
       "      <td>100.0</td>\n",
       "      <td>1.0</td>\n",
       "      <td>microgram</td>\n",
       "      <td>ml</td>\n",
       "      <td>Flumazenil</td>\n",
       "      <td>Intravenous</td>\n",
       "    </tr>\n",
       "    <tr>\n",
       "      <th>9058</th>\n",
       "      <td>2023-01-01</td>\n",
       "      <td>1400.0</td>\n",
       "      <td>500.0</td>\n",
       "      <td>ML</td>\n",
       "      <td>RYR</td>\n",
       "      <td>Western Sussex Hospitals NHS Foundation Trust</td>\n",
       "      <td>South East</td>\n",
       "      <td>36067711000001104</td>\n",
       "      <td>775985005</td>\n",
       "      <td>Flumazenil</td>\n",
       "      <td>...</td>\n",
       "      <td>ampoule</td>\n",
       "      <td>Solution for injection</td>\n",
       "      <td>Flumazenil 500micrograms/5ml solution for inje...</td>\n",
       "      <td>387575000</td>\n",
       "      <td>100.0</td>\n",
       "      <td>1.0</td>\n",
       "      <td>microgram</td>\n",
       "      <td>ml</td>\n",
       "      <td>Flumazenil</td>\n",
       "      <td>Intravenous</td>\n",
       "    </tr>\n",
       "    <tr>\n",
       "      <th>9059</th>\n",
       "      <td>2023-12-01</td>\n",
       "      <td>2660.0</td>\n",
       "      <td>950.0</td>\n",
       "      <td>ML</td>\n",
       "      <td>RYR</td>\n",
       "      <td>Western Sussex Hospitals NHS Foundation Trust</td>\n",
       "      <td>South East</td>\n",
       "      <td>36067711000001104</td>\n",
       "      <td>775985005</td>\n",
       "      <td>Flumazenil</td>\n",
       "      <td>...</td>\n",
       "      <td>ampoule</td>\n",
       "      <td>Solution for injection</td>\n",
       "      <td>Flumazenil 500micrograms/5ml solution for inje...</td>\n",
       "      <td>387575000</td>\n",
       "      <td>100.0</td>\n",
       "      <td>1.0</td>\n",
       "      <td>microgram</td>\n",
       "      <td>ml</td>\n",
       "      <td>Flumazenil</td>\n",
       "      <td>Intravenous</td>\n",
       "    </tr>\n",
       "    <tr>\n",
       "      <th>9060</th>\n",
       "      <td>2021-12-01</td>\n",
       "      <td>1960.0</td>\n",
       "      <td>700.0</td>\n",
       "      <td>ML</td>\n",
       "      <td>RYR</td>\n",
       "      <td>Western Sussex Hospitals NHS Foundation Trust</td>\n",
       "      <td>South East</td>\n",
       "      <td>36067711000001104</td>\n",
       "      <td>775985005</td>\n",
       "      <td>Flumazenil</td>\n",
       "      <td>...</td>\n",
       "      <td>ampoule</td>\n",
       "      <td>Solution for injection</td>\n",
       "      <td>Flumazenil 500micrograms/5ml solution for inje...</td>\n",
       "      <td>387575000</td>\n",
       "      <td>100.0</td>\n",
       "      <td>1.0</td>\n",
       "      <td>microgram</td>\n",
       "      <td>ml</td>\n",
       "      <td>Flumazenil</td>\n",
       "      <td>Intravenous</td>\n",
       "    </tr>\n",
       "  </tbody>\n",
       "</table>\n",
       "<p>5 rows × 23 columns</p>\n",
       "</div>"
      ],
      "text/plain": [
       "      year_month  indicative_cost  quantity uom ods_code  \\\n",
       "9056  2021-07-01            700.0     250.0  ML      RYR   \n",
       "9057  2023-05-01           3920.0    1400.0  ML      RYR   \n",
       "9058  2023-01-01           1400.0     500.0  ML      RYR   \n",
       "9059  2023-12-01           2660.0     950.0  ML      RYR   \n",
       "9060  2021-12-01           1960.0     700.0  ML      RYR   \n",
       "\n",
       "                                           ods_name      region  \\\n",
       "9056  Western Sussex Hospitals NHS Foundation Trust  South East   \n",
       "9057  Western Sussex Hospitals NHS Foundation Trust  South East   \n",
       "9058  Western Sussex Hospitals NHS Foundation Trust  South East   \n",
       "9059  Western Sussex Hospitals NHS Foundation Trust  South East   \n",
       "9060  Western Sussex Hospitals NHS Foundation Trust  South East   \n",
       "\n",
       "               vmp_code        vtm    vtm_name  ... unit_dose_uom  \\\n",
       "9056  36067711000001104  775985005  Flumazenil  ...       ampoule   \n",
       "9057  36067711000001104  775985005  Flumazenil  ...       ampoule   \n",
       "9058  36067711000001104  775985005  Flumazenil  ...       ampoule   \n",
       "9059  36067711000001104  775985005  Flumazenil  ...       ampoule   \n",
       "9060  36067711000001104  775985005  Flumazenil  ...       ampoule   \n",
       "\n",
       "                  dform_form  \\\n",
       "9056  Solution for injection   \n",
       "9057  Solution for injection   \n",
       "9058  Solution for injection   \n",
       "9059  Solution for injection   \n",
       "9060  Solution for injection   \n",
       "\n",
       "                                               vmp_name        ing  \\\n",
       "9056  Flumazenil 500micrograms/5ml solution for inje...  387575000   \n",
       "9057  Flumazenil 500micrograms/5ml solution for inje...  387575000   \n",
       "9058  Flumazenil 500micrograms/5ml solution for inje...  387575000   \n",
       "9059  Flumazenil 500micrograms/5ml solution for inje...  387575000   \n",
       "9060  Flumazenil 500micrograms/5ml solution for inje...  387575000   \n",
       "\n",
       "     strnt_nmrtr_val strnt_dnmtr_val  strnt_nmrtr_uom_name  \\\n",
       "9056           100.0             1.0             microgram   \n",
       "9057           100.0             1.0             microgram   \n",
       "9058           100.0             1.0             microgram   \n",
       "9059           100.0             1.0             microgram   \n",
       "9060           100.0             1.0             microgram   \n",
       "\n",
       "      strnt_dnmtr_uom_name      ing_nm droute_description  \n",
       "9056                    ml  Flumazenil        Intravenous  \n",
       "9057                    ml  Flumazenil        Intravenous  \n",
       "9058                    ml  Flumazenil        Intravenous  \n",
       "9059                    ml  Flumazenil        Intravenous  \n",
       "9060                    ml  Flumazenil        Intravenous  \n",
       "\n",
       "[5 rows x 23 columns]"
      ]
     },
     "execution_count": 4,
     "metadata": {},
     "output_type": "execute_result"
    }
   ],
   "source": [
    "df_flumazenil.tail()"
   ]
  },
  {
   "cell_type": "code",
   "execution_count": 5,
   "metadata": {},
   "outputs": [
    {
     "data": {
      "text/plain": [
       "Index(['year_month', 'indicative_cost', 'quantity', 'uom', 'ods_code',\n",
       "       'ods_name', 'region', 'vmp_code', 'vtm', 'vtm_name', 'df_ind', 'udfs',\n",
       "       'udfs_uom', 'unit_dose_uom', 'dform_form', 'vmp_name', 'ing',\n",
       "       'strnt_nmrtr_val', 'strnt_dnmtr_val', 'strnt_nmrtr_uom_name',\n",
       "       'strnt_dnmtr_uom_name', 'ing_nm', 'droute_description'],\n",
       "      dtype='object')"
      ]
     },
     "execution_count": 5,
     "metadata": {},
     "output_type": "execute_result"
    }
   ],
   "source": [
    "df_flumazenil.columns"
   ]
  },
  {
   "cell_type": "code",
   "execution_count": 6,
   "metadata": {},
   "outputs": [
    {
     "data": {
      "text/plain": [
       "droute_description\n",
       "Intravenous    9061\n",
       "Name: count, dtype: int64"
      ]
     },
     "execution_count": 6,
     "metadata": {},
     "output_type": "execute_result"
    }
   ],
   "source": [
    "df_flumazenil[\"droute_description\"].value_counts()"
   ]
  },
  {
   "cell_type": "markdown",
   "metadata": {},
   "source": [
    "### splitting dates to year & month"
   ]
  },
  {
   "cell_type": "code",
   "execution_count": 7,
   "metadata": {},
   "outputs": [
    {
     "data": {
      "text/html": [
       "<div>\n",
       "<style scoped>\n",
       "    .dataframe tbody tr th:only-of-type {\n",
       "        vertical-align: middle;\n",
       "    }\n",
       "\n",
       "    .dataframe tbody tr th {\n",
       "        vertical-align: top;\n",
       "    }\n",
       "\n",
       "    .dataframe thead th {\n",
       "        text-align: right;\n",
       "    }\n",
       "</style>\n",
       "<table border=\"1\" class=\"dataframe\">\n",
       "  <thead>\n",
       "    <tr style=\"text-align: right;\">\n",
       "      <th></th>\n",
       "      <th>year_month</th>\n",
       "      <th>year</th>\n",
       "      <th>month</th>\n",
       "      <th>indicative_cost</th>\n",
       "      <th>quantity</th>\n",
       "      <th>uom</th>\n",
       "      <th>ods_code</th>\n",
       "      <th>ods_name</th>\n",
       "      <th>region</th>\n",
       "      <th>vmp_code</th>\n",
       "      <th>...</th>\n",
       "      <th>unit_dose_uom</th>\n",
       "      <th>dform_form</th>\n",
       "      <th>vmp_name</th>\n",
       "      <th>ing</th>\n",
       "      <th>strnt_nmrtr_val</th>\n",
       "      <th>strnt_dnmtr_val</th>\n",
       "      <th>strnt_nmrtr_uom_name</th>\n",
       "      <th>strnt_dnmtr_uom_name</th>\n",
       "      <th>ing_nm</th>\n",
       "      <th>droute_description</th>\n",
       "    </tr>\n",
       "  </thead>\n",
       "  <tbody>\n",
       "    <tr>\n",
       "      <th>0</th>\n",
       "      <td>2023-06-01</td>\n",
       "      <td>2023</td>\n",
       "      <td>6</td>\n",
       "      <td>420.0</td>\n",
       "      <td>150.0</td>\n",
       "      <td>ML</td>\n",
       "      <td>RR7</td>\n",
       "      <td>Gateshead Health NHS Foundation Trust</td>\n",
       "      <td>North East</td>\n",
       "      <td>36067711000001104</td>\n",
       "      <td>...</td>\n",
       "      <td>ampoule</td>\n",
       "      <td>Solution for injection</td>\n",
       "      <td>Flumazenil 500micrograms/5ml solution for inje...</td>\n",
       "      <td>387575000</td>\n",
       "      <td>100.0</td>\n",
       "      <td>1.0</td>\n",
       "      <td>microgram</td>\n",
       "      <td>ml</td>\n",
       "      <td>Flumazenil</td>\n",
       "      <td>Intravenous</td>\n",
       "    </tr>\n",
       "    <tr>\n",
       "      <th>1</th>\n",
       "      <td>2023-06-01</td>\n",
       "      <td>2023</td>\n",
       "      <td>6</td>\n",
       "      <td>308.0</td>\n",
       "      <td>110.0</td>\n",
       "      <td>ML</td>\n",
       "      <td>RCU</td>\n",
       "      <td>Sheffield Children's NHS Foundation Trust</td>\n",
       "      <td>Yorkshire and The Humber</td>\n",
       "      <td>36067711000001104</td>\n",
       "      <td>...</td>\n",
       "      <td>ampoule</td>\n",
       "      <td>Solution for injection</td>\n",
       "      <td>Flumazenil 500micrograms/5ml solution for inje...</td>\n",
       "      <td>387575000</td>\n",
       "      <td>100.0</td>\n",
       "      <td>1.0</td>\n",
       "      <td>microgram</td>\n",
       "      <td>ml</td>\n",
       "      <td>Flumazenil</td>\n",
       "      <td>Intravenous</td>\n",
       "    </tr>\n",
       "    <tr>\n",
       "      <th>2</th>\n",
       "      <td>2023-06-01</td>\n",
       "      <td>2023</td>\n",
       "      <td>6</td>\n",
       "      <td>140.0</td>\n",
       "      <td>50.0</td>\n",
       "      <td>ML</td>\n",
       "      <td>RY3</td>\n",
       "      <td>Norfolk Community Health and Care NHS Trust</td>\n",
       "      <td>East of England</td>\n",
       "      <td>36067711000001104</td>\n",
       "      <td>...</td>\n",
       "      <td>ampoule</td>\n",
       "      <td>Solution for injection</td>\n",
       "      <td>Flumazenil 500micrograms/5ml solution for inje...</td>\n",
       "      <td>387575000</td>\n",
       "      <td>100.0</td>\n",
       "      <td>1.0</td>\n",
       "      <td>microgram</td>\n",
       "      <td>ml</td>\n",
       "      <td>Flumazenil</td>\n",
       "      <td>Intravenous</td>\n",
       "    </tr>\n",
       "    <tr>\n",
       "      <th>3</th>\n",
       "      <td>2023-06-01</td>\n",
       "      <td>2023</td>\n",
       "      <td>6</td>\n",
       "      <td>140.0</td>\n",
       "      <td>50.0</td>\n",
       "      <td>ML</td>\n",
       "      <td>RBS</td>\n",
       "      <td>Alder Hey Children's NHS Foundation Trust</td>\n",
       "      <td>North West</td>\n",
       "      <td>36067711000001104</td>\n",
       "      <td>...</td>\n",
       "      <td>ampoule</td>\n",
       "      <td>Solution for injection</td>\n",
       "      <td>Flumazenil 500micrograms/5ml solution for inje...</td>\n",
       "      <td>387575000</td>\n",
       "      <td>100.0</td>\n",
       "      <td>1.0</td>\n",
       "      <td>microgram</td>\n",
       "      <td>ml</td>\n",
       "      <td>Flumazenil</td>\n",
       "      <td>Intravenous</td>\n",
       "    </tr>\n",
       "    <tr>\n",
       "      <th>4</th>\n",
       "      <td>2023-06-01</td>\n",
       "      <td>2023</td>\n",
       "      <td>6</td>\n",
       "      <td>140.0</td>\n",
       "      <td>50.0</td>\n",
       "      <td>ML</td>\n",
       "      <td>RXE</td>\n",
       "      <td>Rotherham Doncaster and South Humber NHS Found...</td>\n",
       "      <td>Yorkshire and The Humber</td>\n",
       "      <td>36067711000001104</td>\n",
       "      <td>...</td>\n",
       "      <td>ampoule</td>\n",
       "      <td>Solution for injection</td>\n",
       "      <td>Flumazenil 500micrograms/5ml solution for inje...</td>\n",
       "      <td>387575000</td>\n",
       "      <td>100.0</td>\n",
       "      <td>1.0</td>\n",
       "      <td>microgram</td>\n",
       "      <td>ml</td>\n",
       "      <td>Flumazenil</td>\n",
       "      <td>Intravenous</td>\n",
       "    </tr>\n",
       "  </tbody>\n",
       "</table>\n",
       "<p>5 rows × 25 columns</p>\n",
       "</div>"
      ],
      "text/plain": [
       "  year_month  year  month  indicative_cost  quantity uom ods_code  \\\n",
       "0 2023-06-01  2023      6            420.0     150.0  ML      RR7   \n",
       "1 2023-06-01  2023      6            308.0     110.0  ML      RCU   \n",
       "2 2023-06-01  2023      6            140.0      50.0  ML      RY3   \n",
       "3 2023-06-01  2023      6            140.0      50.0  ML      RBS   \n",
       "4 2023-06-01  2023      6            140.0      50.0  ML      RXE   \n",
       "\n",
       "                                            ods_name  \\\n",
       "0              Gateshead Health NHS Foundation Trust   \n",
       "1          Sheffield Children's NHS Foundation Trust   \n",
       "2        Norfolk Community Health and Care NHS Trust   \n",
       "3          Alder Hey Children's NHS Foundation Trust   \n",
       "4  Rotherham Doncaster and South Humber NHS Found...   \n",
       "\n",
       "                     region           vmp_code  ...  unit_dose_uom  \\\n",
       "0                North East  36067711000001104  ...        ampoule   \n",
       "1  Yorkshire and The Humber  36067711000001104  ...        ampoule   \n",
       "2           East of England  36067711000001104  ...        ampoule   \n",
       "3                North West  36067711000001104  ...        ampoule   \n",
       "4  Yorkshire and The Humber  36067711000001104  ...        ampoule   \n",
       "\n",
       "               dform_form                                           vmp_name  \\\n",
       "0  Solution for injection  Flumazenil 500micrograms/5ml solution for inje...   \n",
       "1  Solution for injection  Flumazenil 500micrograms/5ml solution for inje...   \n",
       "2  Solution for injection  Flumazenil 500micrograms/5ml solution for inje...   \n",
       "3  Solution for injection  Flumazenil 500micrograms/5ml solution for inje...   \n",
       "4  Solution for injection  Flumazenil 500micrograms/5ml solution for inje...   \n",
       "\n",
       "         ing strnt_nmrtr_val strnt_dnmtr_val strnt_nmrtr_uom_name  \\\n",
       "0  387575000           100.0             1.0            microgram   \n",
       "1  387575000           100.0             1.0            microgram   \n",
       "2  387575000           100.0             1.0            microgram   \n",
       "3  387575000           100.0             1.0            microgram   \n",
       "4  387575000           100.0             1.0            microgram   \n",
       "\n",
       "  strnt_dnmtr_uom_name      ing_nm  droute_description  \n",
       "0                   ml  Flumazenil         Intravenous  \n",
       "1                   ml  Flumazenil         Intravenous  \n",
       "2                   ml  Flumazenil         Intravenous  \n",
       "3                   ml  Flumazenil         Intravenous  \n",
       "4                   ml  Flumazenil         Intravenous  \n",
       "\n",
       "[5 rows x 25 columns]"
      ]
     },
     "execution_count": 7,
     "metadata": {},
     "output_type": "execute_result"
    }
   ],
   "source": [
    "df_flumazenil[\"year_month\"] = pd.to_datetime(df_flumazenil[\"year_month\"])\n",
    "\n",
    "df_flumazenil[\"year\"] = df_flumazenil[\"year_month\"].dt.year\n",
    "df_flumazenil[\"month\"] = df_flumazenil[\"year_month\"].dt.month\n",
    "\n",
    "# df_flumazenil.drop('year_month', inplace=True, axis=1)\n",
    "\n",
    "df_flumazenil = df_flumazenil[['year_month', 'year', 'month', 'indicative_cost', 'quantity', 'uom', 'ods_code',\n",
    "       'ods_name', 'region', 'vmp_code', 'vtm', 'vtm_name', 'df_ind', 'udfs',\n",
    "       'udfs_uom', 'unit_dose_uom', 'dform_form', 'vmp_name', 'ing',\n",
    "       'strnt_nmrtr_val', 'strnt_dnmtr_val', 'strnt_nmrtr_uom_name',\n",
    "       'strnt_dnmtr_uom_name', 'ing_nm', 'droute_description']]\n",
    "\n",
    "df_flumazenil.head()"
   ]
  },
  {
   "cell_type": "code",
   "execution_count": 8,
   "metadata": {},
   "outputs": [
    {
     "name": "stdout",
     "output_type": "stream",
     "text": [
      "year_month\n",
      "2020-05-01    197\n",
      "2019-06-01    186\n",
      "2020-10-01    186\n",
      "2020-06-01    183\n",
      "2020-09-01    182\n",
      "2020-04-01    177\n",
      "2020-03-01    174\n",
      "2020-11-01    174\n",
      "2019-05-01    170\n",
      "2024-01-01    169\n",
      "2020-08-01    168\n",
      "2020-07-01    167\n",
      "2019-07-01    165\n",
      "2023-10-01    163\n",
      "2021-11-01    163\n",
      "2021-01-01    163\n",
      "2022-03-01    162\n",
      "2021-10-01    159\n",
      "2023-11-01    157\n",
      "2019-12-01    157\n",
      "2020-01-01    157\n",
      "2023-12-01    156\n",
      "2023-07-01    155\n",
      "2021-06-01    153\n",
      "2023-04-01    152\n",
      "2023-05-01    151\n",
      "2020-02-01    151\n",
      "2019-08-01    150\n",
      "2023-03-01    150\n",
      "2020-12-01    149\n",
      "2022-04-01    147\n",
      "2023-09-01    147\n",
      "2023-08-01    147\n",
      "2019-10-01    147\n",
      "2019-04-01    146\n",
      "2024-02-01    146\n",
      "2021-03-01    146\n",
      "2021-09-01    145\n",
      "2022-01-01    145\n",
      "2021-07-01    145\n",
      "2022-10-01    141\n",
      "2021-12-01    141\n",
      "2023-06-01    140\n",
      "2021-02-01    140\n",
      "2022-05-01    139\n",
      "2019-11-01    139\n",
      "2019-09-01    138\n",
      "2022-02-01    137\n",
      "2022-09-01    136\n",
      "2021-04-01    134\n",
      "2021-05-01    132\n",
      "2022-11-01    131\n",
      "2023-02-01    131\n",
      "2022-06-01    130\n",
      "2021-08-01    127\n",
      "2024-03-01    126\n",
      "2022-07-01    125\n",
      "2022-12-01    124\n",
      "2023-01-01    122\n",
      "2022-08-01    121\n",
      "Name: count, dtype: int64\n",
      "year\n",
      "2020    2065\n",
      "2023    1771\n",
      "2021    1748\n",
      "2022    1638\n",
      "2019    1398\n",
      "2024     441\n",
      "Name: count, dtype: int64\n",
      "month\n",
      "10    796\n",
      "6     792\n",
      "5     789\n",
      "11    764\n",
      "3     758\n",
      "7     757\n",
      "4     756\n",
      "1     756\n",
      "9     748\n",
      "12    727\n",
      "8     713\n",
      "2     705\n",
      "Name: count, dtype: int64\n",
      "indicative_cost\n",
      "140.00     666\n",
      "144.90     501\n",
      "280.00     462\n",
      "289.80     380\n",
      "72.45      347\n",
      "          ... \n",
      "8983.80      1\n",
      "3010.00      1\n",
      "695.52       1\n",
      "1268.73      1\n",
      "3934.00      1\n",
      "Name: count, Length: 497, dtype: int64\n",
      "quantity\n",
      " 50.0      1264\n",
      " 100.0      902\n",
      " 25.0       772\n",
      " 150.0      680\n",
      " 200.0      526\n",
      "           ... \n",
      "-450.0        1\n",
      " 1450.0       1\n",
      " 1090.0       1\n",
      " 2400.0       1\n",
      " 1405.0       1\n",
      "Name: count, Length: 283, dtype: int64\n",
      "uom\n",
      "ML    9061\n",
      "Name: count, dtype: int64\n",
      "ods_code\n",
      "RYR    60\n",
      "RWY    60\n",
      "RHM    60\n",
      "RHQ    60\n",
      "RJ7    60\n",
      "       ..\n",
      "RYV     5\n",
      "RYG     5\n",
      "RYK     4\n",
      "RY6     2\n",
      "RP7     1\n",
      "Name: count, Length: 218, dtype: int64\n",
      "ods_name\n",
      "Western Sussex Hospitals NHS Foundation Trust                                                        60\n",
      "Calderdale and Huddersfield NHS Foundation Trust                                                     60\n",
      "University Hospital Southampton NHS Foundation Trust                                                 60\n",
      "Sheffield Teaching Hospitals NHS Foundation Trust                                                    60\n",
      "St George's University Hospitals NHS Foundation Trust                                                60\n",
      "                                                                                                     ..\n",
      "Cambridgeshire Community Services NHS Trust                                                           5\n",
      "Coventry and Warwickshire Partnership NHS Trust                                                       5\n",
      "Black Country Healthcare NHS Foundation Trust (prev: Dudley Integrated Health and Care NHS Trust)     4\n",
      "Leeds Community Healthcare NHS Trust                                                                  2\n",
      "Lincolnshire Partnership NHS Foundation Trust                                                         1\n",
      "Name: count, Length: 218, dtype: int64\n",
      "region\n",
      "London                      1415\n",
      "North West                  1331\n",
      "South East                  1251\n",
      "East of England              946\n",
      "West Midlands                925\n",
      "South West                   847\n",
      "Yorkshire and The Humber     820\n",
      "East Midlands                543\n",
      "North East                   406\n",
      "Name: count, dtype: int64\n",
      "vmp_code\n",
      "36067711000001104    9061\n",
      "Name: count, dtype: int64\n",
      "vtm\n",
      "775985005    9061\n",
      "Name: count, dtype: int64\n",
      "vtm_name\n",
      "Flumazenil    9061\n",
      "Name: count, dtype: int64\n",
      "df_ind\n",
      "Discrete    9061\n",
      "Name: count, dtype: int64\n",
      "udfs\n",
      "5.0    9061\n",
      "Name: count, dtype: int64\n",
      "udfs_uom\n",
      "ml    9061\n",
      "Name: count, dtype: int64\n",
      "unit_dose_uom\n",
      "ampoule    9061\n",
      "Name: count, dtype: int64\n",
      "dform_form\n",
      "Solution for injection    9061\n",
      "Name: count, dtype: int64\n",
      "vmp_name\n",
      "Flumazenil 500micrograms/5ml solution for injection ampoules    9061\n",
      "Name: count, dtype: int64\n",
      "ing\n",
      "387575000    9061\n",
      "Name: count, dtype: int64\n",
      "strnt_nmrtr_val\n",
      "100.0    9061\n",
      "Name: count, dtype: int64\n",
      "strnt_dnmtr_val\n",
      "1.0    9061\n",
      "Name: count, dtype: int64\n",
      "strnt_nmrtr_uom_name\n",
      "microgram    9061\n",
      "Name: count, dtype: int64\n",
      "strnt_dnmtr_uom_name\n",
      "ml    9061\n",
      "Name: count, dtype: int64\n",
      "ing_nm\n",
      "Flumazenil    9061\n",
      "Name: count, dtype: int64\n",
      "droute_description\n",
      "Intravenous    9061\n",
      "Name: count, dtype: int64\n"
     ]
    }
   ],
   "source": [
    "for col in df_flumazenil.columns:\n",
    "    print(df_flumazenil[col].value_counts())"
   ]
  },
  {
   "cell_type": "code",
   "execution_count": 9,
   "metadata": {},
   "outputs": [
    {
     "data": {
      "text/plain": [
       "array([1.])"
      ]
     },
     "execution_count": 9,
     "metadata": {},
     "output_type": "execute_result"
    }
   ],
   "source": [
    "df_flumazenil[\"strnt_dnmtr_val\"].unique()"
   ]
  },
  {
   "cell_type": "markdown",
   "metadata": {},
   "source": [
    "### number of doses of midazolam prescribed per instance"
   ]
  },
  {
   "cell_type": "code",
   "execution_count": 10,
   "metadata": {},
   "outputs": [],
   "source": [
    "df_flumazenil[\"udfs\"] = df_flumazenil[\"udfs\"].astype(float)\n",
    "df_flumazenil[\"num_of_doses\"] = df_flumazenil[\"quantity\"]\n",
    "\n",
    "df_flumazenil.loc[df_flumazenil[\"df_ind\"] == \"Discrete\", 'num_of_doses'] = df_flumazenil[\"quantity\"]/df_flumazenil[\"udfs\"]"
   ]
  },
  {
   "cell_type": "markdown",
   "metadata": {},
   "source": [
    "### dose of midazolam prescribed per instance"
   ]
  },
  {
   "cell_type": "code",
   "execution_count": 11,
   "metadata": {},
   "outputs": [
    {
     "data": {
      "text/html": [
       "<div>\n",
       "<style scoped>\n",
       "    .dataframe tbody tr th:only-of-type {\n",
       "        vertical-align: middle;\n",
       "    }\n",
       "\n",
       "    .dataframe tbody tr th {\n",
       "        vertical-align: top;\n",
       "    }\n",
       "\n",
       "    .dataframe thead th {\n",
       "        text-align: right;\n",
       "    }\n",
       "</style>\n",
       "<table border=\"1\" class=\"dataframe\">\n",
       "  <thead>\n",
       "    <tr style=\"text-align: right;\">\n",
       "      <th></th>\n",
       "      <th>year_month</th>\n",
       "      <th>year</th>\n",
       "      <th>month</th>\n",
       "      <th>indicative_cost</th>\n",
       "      <th>quantity</th>\n",
       "      <th>uom</th>\n",
       "      <th>ods_code</th>\n",
       "      <th>ods_name</th>\n",
       "      <th>region</th>\n",
       "      <th>vmp_code</th>\n",
       "      <th>...</th>\n",
       "      <th>vmp_name</th>\n",
       "      <th>ing</th>\n",
       "      <th>strnt_nmrtr_val</th>\n",
       "      <th>strnt_dnmtr_val</th>\n",
       "      <th>strnt_nmrtr_uom_name</th>\n",
       "      <th>strnt_dnmtr_uom_name</th>\n",
       "      <th>ing_nm</th>\n",
       "      <th>droute_description</th>\n",
       "      <th>num_of_doses</th>\n",
       "      <th>dose</th>\n",
       "    </tr>\n",
       "  </thead>\n",
       "  <tbody>\n",
       "    <tr>\n",
       "      <th>0</th>\n",
       "      <td>2023-06-01</td>\n",
       "      <td>2023</td>\n",
       "      <td>6</td>\n",
       "      <td>420.0</td>\n",
       "      <td>150.0</td>\n",
       "      <td>ML</td>\n",
       "      <td>RR7</td>\n",
       "      <td>Gateshead Health NHS Foundation Trust</td>\n",
       "      <td>North East</td>\n",
       "      <td>36067711000001104</td>\n",
       "      <td>...</td>\n",
       "      <td>Flumazenil 500micrograms/5ml solution for inje...</td>\n",
       "      <td>387575000</td>\n",
       "      <td>100.0</td>\n",
       "      <td>1.0</td>\n",
       "      <td>microgram</td>\n",
       "      <td>ml</td>\n",
       "      <td>Flumazenil</td>\n",
       "      <td>Intravenous</td>\n",
       "      <td>30.0</td>\n",
       "      <td>100.0</td>\n",
       "    </tr>\n",
       "    <tr>\n",
       "      <th>1</th>\n",
       "      <td>2023-06-01</td>\n",
       "      <td>2023</td>\n",
       "      <td>6</td>\n",
       "      <td>308.0</td>\n",
       "      <td>110.0</td>\n",
       "      <td>ML</td>\n",
       "      <td>RCU</td>\n",
       "      <td>Sheffield Children's NHS Foundation Trust</td>\n",
       "      <td>Yorkshire and The Humber</td>\n",
       "      <td>36067711000001104</td>\n",
       "      <td>...</td>\n",
       "      <td>Flumazenil 500micrograms/5ml solution for inje...</td>\n",
       "      <td>387575000</td>\n",
       "      <td>100.0</td>\n",
       "      <td>1.0</td>\n",
       "      <td>microgram</td>\n",
       "      <td>ml</td>\n",
       "      <td>Flumazenil</td>\n",
       "      <td>Intravenous</td>\n",
       "      <td>22.0</td>\n",
       "      <td>100.0</td>\n",
       "    </tr>\n",
       "    <tr>\n",
       "      <th>2</th>\n",
       "      <td>2023-06-01</td>\n",
       "      <td>2023</td>\n",
       "      <td>6</td>\n",
       "      <td>140.0</td>\n",
       "      <td>50.0</td>\n",
       "      <td>ML</td>\n",
       "      <td>RY3</td>\n",
       "      <td>Norfolk Community Health and Care NHS Trust</td>\n",
       "      <td>East of England</td>\n",
       "      <td>36067711000001104</td>\n",
       "      <td>...</td>\n",
       "      <td>Flumazenil 500micrograms/5ml solution for inje...</td>\n",
       "      <td>387575000</td>\n",
       "      <td>100.0</td>\n",
       "      <td>1.0</td>\n",
       "      <td>microgram</td>\n",
       "      <td>ml</td>\n",
       "      <td>Flumazenil</td>\n",
       "      <td>Intravenous</td>\n",
       "      <td>10.0</td>\n",
       "      <td>100.0</td>\n",
       "    </tr>\n",
       "    <tr>\n",
       "      <th>3</th>\n",
       "      <td>2023-06-01</td>\n",
       "      <td>2023</td>\n",
       "      <td>6</td>\n",
       "      <td>140.0</td>\n",
       "      <td>50.0</td>\n",
       "      <td>ML</td>\n",
       "      <td>RBS</td>\n",
       "      <td>Alder Hey Children's NHS Foundation Trust</td>\n",
       "      <td>North West</td>\n",
       "      <td>36067711000001104</td>\n",
       "      <td>...</td>\n",
       "      <td>Flumazenil 500micrograms/5ml solution for inje...</td>\n",
       "      <td>387575000</td>\n",
       "      <td>100.0</td>\n",
       "      <td>1.0</td>\n",
       "      <td>microgram</td>\n",
       "      <td>ml</td>\n",
       "      <td>Flumazenil</td>\n",
       "      <td>Intravenous</td>\n",
       "      <td>10.0</td>\n",
       "      <td>100.0</td>\n",
       "    </tr>\n",
       "    <tr>\n",
       "      <th>4</th>\n",
       "      <td>2023-06-01</td>\n",
       "      <td>2023</td>\n",
       "      <td>6</td>\n",
       "      <td>140.0</td>\n",
       "      <td>50.0</td>\n",
       "      <td>ML</td>\n",
       "      <td>RXE</td>\n",
       "      <td>Rotherham Doncaster and South Humber NHS Found...</td>\n",
       "      <td>Yorkshire and The Humber</td>\n",
       "      <td>36067711000001104</td>\n",
       "      <td>...</td>\n",
       "      <td>Flumazenil 500micrograms/5ml solution for inje...</td>\n",
       "      <td>387575000</td>\n",
       "      <td>100.0</td>\n",
       "      <td>1.0</td>\n",
       "      <td>microgram</td>\n",
       "      <td>ml</td>\n",
       "      <td>Flumazenil</td>\n",
       "      <td>Intravenous</td>\n",
       "      <td>10.0</td>\n",
       "      <td>100.0</td>\n",
       "    </tr>\n",
       "  </tbody>\n",
       "</table>\n",
       "<p>5 rows × 27 columns</p>\n",
       "</div>"
      ],
      "text/plain": [
       "  year_month  year  month  indicative_cost  quantity uom ods_code  \\\n",
       "0 2023-06-01  2023      6            420.0     150.0  ML      RR7   \n",
       "1 2023-06-01  2023      6            308.0     110.0  ML      RCU   \n",
       "2 2023-06-01  2023      6            140.0      50.0  ML      RY3   \n",
       "3 2023-06-01  2023      6            140.0      50.0  ML      RBS   \n",
       "4 2023-06-01  2023      6            140.0      50.0  ML      RXE   \n",
       "\n",
       "                                            ods_name  \\\n",
       "0              Gateshead Health NHS Foundation Trust   \n",
       "1          Sheffield Children's NHS Foundation Trust   \n",
       "2        Norfolk Community Health and Care NHS Trust   \n",
       "3          Alder Hey Children's NHS Foundation Trust   \n",
       "4  Rotherham Doncaster and South Humber NHS Found...   \n",
       "\n",
       "                     region           vmp_code  ...  \\\n",
       "0                North East  36067711000001104  ...   \n",
       "1  Yorkshire and The Humber  36067711000001104  ...   \n",
       "2           East of England  36067711000001104  ...   \n",
       "3                North West  36067711000001104  ...   \n",
       "4  Yorkshire and The Humber  36067711000001104  ...   \n",
       "\n",
       "                                            vmp_name        ing  \\\n",
       "0  Flumazenil 500micrograms/5ml solution for inje...  387575000   \n",
       "1  Flumazenil 500micrograms/5ml solution for inje...  387575000   \n",
       "2  Flumazenil 500micrograms/5ml solution for inje...  387575000   \n",
       "3  Flumazenil 500micrograms/5ml solution for inje...  387575000   \n",
       "4  Flumazenil 500micrograms/5ml solution for inje...  387575000   \n",
       "\n",
       "  strnt_nmrtr_val  strnt_dnmtr_val strnt_nmrtr_uom_name strnt_dnmtr_uom_name  \\\n",
       "0           100.0              1.0            microgram                   ml   \n",
       "1           100.0              1.0            microgram                   ml   \n",
       "2           100.0              1.0            microgram                   ml   \n",
       "3           100.0              1.0            microgram                   ml   \n",
       "4           100.0              1.0            microgram                   ml   \n",
       "\n",
       "       ing_nm droute_description  num_of_doses   dose  \n",
       "0  Flumazenil        Intravenous          30.0  100.0  \n",
       "1  Flumazenil        Intravenous          22.0  100.0  \n",
       "2  Flumazenil        Intravenous          10.0  100.0  \n",
       "3  Flumazenil        Intravenous          10.0  100.0  \n",
       "4  Flumazenil        Intravenous          10.0  100.0  \n",
       "\n",
       "[5 rows x 27 columns]"
      ]
     },
     "execution_count": 11,
     "metadata": {},
     "output_type": "execute_result"
    }
   ],
   "source": [
    "df_flumazenil[\"dose\"] = df_flumazenil[\"strnt_nmrtr_val\"] / df_flumazenil[\"strnt_dnmtr_val\"]\n",
    "df_flumazenil.head()"
   ]
  },
  {
   "cell_type": "markdown",
   "metadata": {},
   "source": [
    "### trusts which prescribed safe dose"
   ]
  },
  {
   "cell_type": "code",
   "execution_count": 12,
   "metadata": {},
   "outputs": [
    {
     "name": "stdout",
     "output_type": "stream",
     "text": [
      "Out of 219 trusts, 0 prescribed the right dose of 1mg/1ml\n"
     ]
    }
   ],
   "source": [
    "safe_dose_df = df_flumazenil[df_flumazenil[\"dose\"] == 1.0]\n",
    "print(f\"Out of {len(df_flumazenil['ods_name'].unique())} trusts, {len(safe_dose_df['ods_name'].unique())} prescribed the right dose of 1mg/1ml\")\n",
    "# safe_dose_df.groupby(\"ods_name\")[\"dose\"].count().sort_values(ascending=False)[:-10].plot(kind=\"bar\")"
   ]
  },
  {
   "cell_type": "code",
   "execution_count": 13,
   "metadata": {},
   "outputs": [
    {
     "name": "stdout",
     "output_type": "stream",
     "text": [
      "Trusts not given safe dose: 219 and they are \n",
      " ['Liverpool Heart and Chest Hospital NHS Foundation Trust', 'Central London Community Healthcare NHS Trust', 'Lancashire Teaching Hospitals NHS Foundation Trust', 'Surrey and Sussex Healthcare NHS Trust', 'South Tees Hospitals NHS Foundation Trust', 'Isle of Wight NHS Trust', \"Liverpool Women's NHS Foundation Trust\", 'South Tyneside and Sunderland NHS Foundation Trust (prev: South Tyneside NHS Foundation Trust)', 'Royal Papworth Hospital NHS Foundation Trust', 'Sussex Partnership NHS Foundation Trust', 'Dorset County Hospital NHS Foundation Trust', 'Birmingham Community Healthcare NHS Foundation Trust', 'South Tyneside and Sunderland NHS Foundation Trust', 'Black Country Healthcare NHS Foundation Trust', 'Hertfordshire Community NHS Trust', 'Avon and Wiltshire Mental Health Partnership NHS Trust', 'St Helens and Knowsley Teaching Hospitals NHS Trust', 'University Hospitals Bristol and Weston NHS Foundation Trust', 'Midlands Partnership NHS Foundation Trust', 'Royal Brompton & Harefield NHS Foundation Trust', 'Barts Health NHS Trust', 'Northern Devon Healthcare NHS Trust', 'Western Sussex Hospitals NHS Foundation Trust', 'Mid and South Essex NHS Foundation Trust (prev: Basildon and Thurrock University Hospitals NHS Foundation Trust)', 'Royal Berkshire NHS Foundation Trust', 'Wye Valley NHS Trust', 'Hampshire Hospitals NHS Foundation Trust', 'University Hospitals Dorset NHS Foundation Trust', 'Kent Community Health NHS Foundation Trust', 'Birmingham and Solihull Mental Health NHS Foundation Trust', 'University Hospitals Dorset NHS Foundation Trust (prev: Poole Hospital NHS Foundation Trust)', 'Liverpool University Hospitals NHS Foundation Trust (prev: Royal Liverpool and Broadgreen University Hospitals NHS Trust)', 'East Sussex Healthcare NHS Trust', 'East and North Hertfordshire NHS Trust', 'East Suffolk and North Essex NHS Foundation Trust', 'Shropshire Community Health NHS Trust', 'North East London NHS Foundation Trust', 'Oxford Health NHS Foundation Trust', 'Hertfordshire Partnership University NHS Foundation Trust', 'Southport and Ormskirk Hospital NHS Trust', 'North West Anglia NHS Foundation Trust', 'University Hospitals Plymouth NHS Trust', 'Tameside and Glossop Integrated Care NHS Foundation Trust', 'Solent NHS Trust', 'Wrightington, Wigan and Leigh NHS Foundation Trust', 'Barnet, Enfield and Haringey Mental Health NHS Trust', 'Queen Victoria Hospital NHS Foundation Trust', 'Manchester University NHS Foundation Trust (prev: University Hospital of South Manchester NHS Foundation Trust)', 'Humber Teaching NHS Foundation Trust', 'Hull University Teaching Hospitals NHS Trust', 'Leicestershire Partnership NHS Trust', 'Southern Health NHS Foundation Trust', 'The Dudley Group NHS Foundation Trust', 'Gloucestershire Hospitals NHS Foundation Trust', 'Buckinghamshire Healthcare NHS Trust', 'North Bristol NHS Trust', 'Royal Free London NHS Foundation Trust', 'Camden and Islington NHS Foundation Trust', 'Countess of Chester Hospital NHS Foundation Trust', 'Chesterfield Royal Hospital NHS Foundation Trust', 'Northampton General Hospital NHS Trust', 'Derbyshire Healthcare NHS Foundation Trust', 'Pennine Acute Hospitals NHS Trust', 'Kent and Medway NHS and Social Care Partnership Trust', 'Leeds Teaching Hospitals NHS Trust', 'Gateshead Health NHS Foundation Trust', 'Blackpool Teaching Hospitals NHS Foundation Trust', 'South London and Maudsley NHS Foundation Trust', 'The Christie NHS Foundation Trust', 'East Suffolk and North Essex NHS Foundation Trust (prev: Ipswich Hospital NHS Trust)', 'University Hospitals Birmingham NHS Foundation Trust (prev: Heart of England NHS Foundation Trust)', 'George Eliot Hospital NHS Trust', 'Medway NHS Foundation Trust', 'The Royal Wolverhampton NHS Trust', 'Mersey Care NHS Foundation Trust', 'Homerton University Hospital NHS Foundation Trust', 'Northern Lincolnshire and Goole NHS Foundation Trust', 'Stockport NHS Foundation Trust', 'Mid Yorkshire Hospitals NHS Trust', 'Northumbria Healthcare NHS Foundation Trust', 'Mid and South Essex NHS Foundation Trust (prev: Mid Essex Hospital Services NHS Trust)', 'Maidstone and Tunbridge Wells NHS Trust', 'West Hertfordshire Hospitals NHS Trust', 'Norfolk and Norwich University Hospitals NHS Foundation Trust', 'Cumbria, Northumberland, Tyne and Wear NHS Foundation Trust', 'University Hospitals of North Midlands NHS Trust', 'Pennine Care NHS Foundation Trust', 'East London NHS Foundation Trust', 'Bradford District Care NHS Foundation Trust', 'The Hillingdon Hospitals NHS Foundation Trust', 'The Royal Orthopaedic Hospital NHS Foundation Trust', 'The Walton Centre NHS Foundation Trust', 'Oxford University Hospitals NHS Foundation Trust', 'Barking, Havering and Redbridge University Hospitals NHS Trust', 'Nottingham University Hospitals NHS Trust', 'Gloucestershire Health and Care NHS Foundation Trust (prev: Gloucestershire Care Services NHS Trust)', 'Mid Cheshire Hospitals NHS Foundation Trust', 'Leeds Community Healthcare NHS Trust', 'The Robert Jones and Agnes Hunt Orthopaedic Hospital NHS Foundation Trust', 'James Paget University Hospitals NHS Foundation Trust', 'Lancashire & South Cumbria NHS Foundation Trust', 'South West Yorkshire Partnership NHS Foundation Trust', 'North West Boroughs Healthcare NHS Foundation Trust', 'Epsom and St Helier University Hospitals NHS Trust', 'Imperial College Healthcare NHS Trust', 'South Warwickshire NHS Foundation Trust', 'Manchester University NHS Foundation Trust', \"Guy's and St Thomas' NHS Foundation Trust\", 'Essex Partnership University NHS Foundation Trust', \"Sheffield Children's NHS Foundation Trust\", 'University Hospital Southampton NHS Foundation Trust', \"The Queen Elizabeth Hospital, King's Lynn, NHS Foundation Trust\", 'University College London Hospitals NHS Foundation Trust', 'Worcestershire Acute Hospitals NHS Trust', 'The Rotherham NHS Foundation Trust', 'Salford Royal NHS Foundation Trust', 'Dartford and Gravesham NHS Trust', 'North Tees and Hartlepool NHS Foundation Trust', 'Royal Devon and Exeter NHS Foundation Trust', 'Somerset NHS Foundation Trust', 'Kettering General Hospital NHS Foundation Trust', 'Sussex Community NHS Foundation Trust', 'Royal Surrey County Hospital NHS Foundation Trust', 'Chelsea and Westminster Hospital NHS Foundation Trust', 'County Durham and Darlington NHS Foundation Trust', 'Worcestershire Health and Care NHS Trust', 'North Middlesex University Hospital NHS Trust', 'Croydon Health Services NHS Trust', 'Sheffield Health & Social Care NHS Foundation Trust', 'London North West University Healthcare NHS Trust', nan, 'Sheffield Teaching Hospitals NHS Foundation Trust', 'Airedale NHS Foundation Trust', 'West London NHS Trust', 'Nottinghamshire Healthcare NHS Foundation Trust', 'Bedfordshire Hospitals NHS Foundation Trust', 'Liverpool University Hospitals NHS Foundation Trust', 'University Hospitals Coventry and Warwickshire NHS Trust', \"Ashford and St Peter's Hospitals NHS Foundation Trust\", 'Bradford Teaching Hospitals NHS Foundation Trust', 'Calderdale and Huddersfield NHS Foundation Trust', 'University Hospitals of Derby and Burton NHS Foundation Trust', 'Sherwood Forest Hospitals NHS Foundation Trust', 'Greater Manchester Mental Health NHS Foundation Trust', \"St George's University Hospitals NHS Foundation Trust\", 'University Hospitals Bristol and Weston NHS Foundation Trust (prev: Weston Area Health NHS Trust)', 'Somerset NHS Foundation Trust (prev: Taunton and Somerset NHS Foundation Trust)', 'Great Western Hospitals NHS Foundation Trust', 'The Newcastle Upon Tyne Hospitals NHS Foundation Trust', 'The Clatterbridge Cancer Centre NHS Foundation Trust', 'Bolton NHS Foundation Trust', 'North Cumbria Integrated Care NHS Foundation Trust', 'Lincolnshire Partnership NHS Foundation Trust', 'Great Ormond Street Hospital For Children NHS Foundation Trust', 'Doncaster and Bassetlaw Teaching Hospitals NHS Foundation Trust', 'United Lincolnshire Hospitals NHS Trust', 'Cambridgeshire and Peterborough NHS Foundation Trust', 'Moorfields Eye Hospital NHS Foundation Trust', 'Warrington and Halton Teaching Hospitals NHS Foundation Trust', 'Central and North West London NHS Foundation Trust', 'East Lancashire Hospitals NHS Trust', 'University Hospitals of Morecambe Bay NHS Foundation Trust', 'Wirral University Teaching Hospital NHS Foundation Trust', 'York Teaching Hospital NHS Foundation Trust', 'Berkshire Healthcare NHS Foundation Trust', 'Manchester University NHS Foundation Trust (prev: Central Manchester University Hospitals NHS Foundation Trust)', 'Bedfordshire Hospitals NHS Foundation Trust (prev: Bedford Hospital NHS Trust)', 'South Tyneside and Sunderland NHS Foundation Trust (prev: City Hospitals Sunderland NHS Foundation Trust)', 'Cheshire and Wirral Partnership NHS Foundation Trust', 'Rotherham Doncaster and South Humber NHS Foundation Trust', 'North Staffordshire Combined Healthcare NHS Trust', 'East Kent Hospitals University NHS Foundation Trust', 'North Cumbria Integrated Care NHS Foundation Trust (prev: North Cumbria University Hospitals NHS Trust)', 'Coventry and Warwickshire Partnership NHS Trust', 'Cambridgeshire Community Services NHS Trust', 'Leeds and York Partnership NHS Foundation Trust', 'Milton Keynes University Hospital NHS Foundation Trust', 'East Cheshire NHS Trust', 'Kingston Hospital NHS Foundation Trust', 'Black Country Healthcare NHS Foundation Trust (prev: Dudley Integrated Health and Care NHS Trust)', 'Portsmouth Hospitals University National Health Service Trust', 'The Princess Alexandra Hospital NHS Trust', 'Frimley Health NHS Foundation Trust', 'Shrewsbury and Telford Hospital NHS Trust', 'Norfolk Community Health and Care NHS Trust', 'Surrey and Borders Partnership NHS Foundation Trust', 'Brighton and Sussex University Hospitals NHS Trust', 'Cornwall Partnership NHS Foundation Trust', 'Lincolnshire Community Health Services NHS Trust', 'The Royal Marsden NHS Foundation Trust', 'Cambridge University Hospitals NHS Foundation Trust', 'University Hospitals Dorset NHS Foundation Trust (prev: The Royal Bournemouth and Christchurch Hospitals NHS Foundation Trust)', 'West Suffolk NHS Foundation Trust', 'Norfolk and Suffolk NHS Foundation Trust', 'Barnsley Hospital NHS Foundation Trust', 'Devon Partnership NHS Trust', 'Walsall Healthcare NHS Trust', 'Harrogate and District NHS Foundation Trust', 'Whittington Health NHS Trust', \"Birmingham Women's and Children's NHS Foundation Trust\", 'Torbay and South Devon NHS Foundation Trust', 'Mid and South Essex NHS Foundation Trust', 'Salisbury NHS Foundation Trust', 'Tees, Esk and Wear Valleys NHS Foundation Trust', 'Royal United Hospitals Bath NHS Foundation Trust', 'Yeovil District Hospital NHS Foundation Trust', 'Lewisham and Greenwich NHS Trust', 'University Hospitals of Leicester NHS Trust', \"King's College Hospital NHS Foundation Trust\", 'Derbyshire Community Health Services NHS Foundation Trust', 'Dorset Healthcare University NHS Foundation Trust', 'Oxleas NHS Foundation Trust', 'University Hospitals of Derby and Burton NHS Foundation Trust (prev: Burton Hospitals NHS Foundation Trust)', 'Royal Cornwall Hospitals NHS Trust', 'Gloucestershire Health and Care NHS Foundation Trust', 'Sandwell and West Birmingham Hospitals NHS Trust', 'Royal National Orthopaedic Hospital NHS Trust', \"Alder Hey Children's NHS Foundation Trust\", 'University Hospitals Birmingham NHS Foundation Trust']\n"
     ]
    }
   ],
   "source": [
    "trusts_safe_dose = set(safe_dose_df['ods_name'].unique())\n",
    "all_trusts = set(df_flumazenil['ods_name'].unique())\n",
    "\n",
    "trusts_high_dose = all_trusts.difference(trusts_safe_dose)\n",
    "print(f\"Trusts not given safe dose: {len(trusts_high_dose)} and they are \\n {list(trusts_high_dose)}\")"
   ]
  },
  {
   "cell_type": "markdown",
   "metadata": {},
   "source": [
    "### number of times each dose is prescribed"
   ]
  },
  {
   "cell_type": "code",
   "execution_count": 14,
   "metadata": {},
   "outputs": [
    {
     "name": "stdout",
     "output_type": "stream",
     "text": [
      "There are 1 doses of midazolam prescribed\n"
     ]
    },
    {
     "name": "stderr",
     "output_type": "stream",
     "text": [
      "/var/folders/kg/k6g30scn6qn74wmjjrw4hky80000gn/T/ipykernel_94111/2131867272.py:10: UserWarning: set_ticklabels() should only be used with a fixed number of ticks, i.e. after set_ticks() or using a FixedLocator.\n",
      "  plt.gca().set_yticklabels(formatted_labels)\n"
     ]
    },
    {
     "data": {
      "image/png": "[encoded data removed]",
      "text/plain": [
       "<Figure size 1000x1000 with 1 Axes>"
      ]
     },
     "metadata": {},
     "output_type": "display_data"
    }
   ],
   "source": [
    "figure = plt.figure(figsize=(10,10))\n",
    "plt.ticklabel_format(style=\"plain\")\n",
    "plt.ylabel(\"Number of times dose is prescribed\")\n",
    "\n",
    "print(f\"There are {len(df_flumazenil['dose'].unique())} doses of midazolam prescribed\")\n",
    "df_flumazenil['dose'].value_counts().plot(kind='bar', rot=90)\n",
    "\n",
    "current_values = plt.gca().get_yticks()\n",
    "formatted_labels = [f'{int(value/1000)}K' for value in current_values]\n",
    "plt.gca().set_yticklabels(formatted_labels)\n",
    "\n",
    "plt.title(\"Doses prescribed\")\n",
    "plt.grid()\n",
    "plt.show()"
   ]
  },
  {
   "cell_type": "markdown",
   "metadata": {},
   "source": [
    "### yearly trend in low dose prescription"
   ]
  },
  {
   "cell_type": "code",
   "execution_count": 15,
   "metadata": {},
   "outputs": [
    {
     "name": "stderr",
     "output_type": "stream",
     "text": [
      "/var/folders/kg/k6g30scn6qn74wmjjrw4hky80000gn/T/ipykernel_94111/2506658361.py:9: UserWarning: set_ticklabels() should only be used with a fixed number of ticks, i.e. after set_ticks() or using a FixedLocator.\n",
      "  plt.gca().set_yticklabels(formatted_labels)\n"
     ]
    },
    {
     "data": {
      "image/png": "[encoded data removed]",
      "text/plain": [
       "<Figure size 1000x1000 with 1 Axes>"
      ]
     },
     "metadata": {},
     "output_type": "display_data"
    }
   ],
   "source": [
    "figure = plt.figure(figsize=(10,10))\n",
    "plt.ticklabel_format(style=\"plain\")\n",
    "plt.ylabel(\"Number of times dose is prescribed\")\n",
    "\n",
    "safe_dose_df.groupby('year')['dose'].sum().plot(rot=90)\n",
    "\n",
    "current_values = plt.gca().get_yticks()\n",
    "formatted_labels = [f'{int(value/1000)}K' for value in current_values]\n",
    "plt.gca().set_yticklabels(formatted_labels)\n",
    "\n",
    "plt.title(\"Yearly trends in low-dose prescription\")\n",
    "plt.grid()\n",
    "plt.show()"
   ]
  },
  {
   "cell_type": "markdown",
   "metadata": {},
   "source": [
    "### yearly trends in high dose prescription"
   ]
  },
  {
   "cell_type": "code",
   "execution_count": 16,
   "metadata": {},
   "outputs": [
    {
     "name": "stderr",
     "output_type": "stream",
     "text": [
      "/var/folders/kg/k6g30scn6qn74wmjjrw4hky80000gn/T/ipykernel_94111/2486010651.py:11: UserWarning: set_ticklabels() should only be used with a fixed number of ticks, i.e. after set_ticks() or using a FixedLocator.\n",
      "  plt.gca().set_yticklabels(formatted_labels)\n"
     ]
    },
    {
     "data": {
      "image/png": "[encoded data removed]",
      "text/plain": [
       "<Figure size 1000x1000 with 1 Axes>"
      ]
     },
     "metadata": {},
     "output_type": "display_data"
    }
   ],
   "source": [
    "high_dose_df = df_flumazenil[df_flumazenil[\"dose\"] != 1.0]\n",
    "\n",
    "figure = plt.figure(figsize=(10,10))\n",
    "plt.ticklabel_format(style=\"plain\")\n",
    "plt.ylabel(\"Number of times dose is prescribed\")\n",
    "\n",
    "high_dose_df.groupby('year')['dose'].sum().plot(rot=90)\n",
    "\n",
    "current_values = plt.gca().get_yticks()\n",
    "formatted_labels = [f'{int(value/1000)}K' for value in current_values]\n",
    "plt.gca().set_yticklabels(formatted_labels)\n",
    "\n",
    "plt.title(\"Yearly trends in high-dose prescription\")\n",
    "plt.grid()\n",
    "plt.show()"
   ]
  },
  {
   "cell_type": "markdown",
   "metadata": {},
   "source": [
    "### dosage forms of Midazolam prescribed "
   ]
  },
  {
   "cell_type": "code",
   "execution_count": 17,
   "metadata": {},
   "outputs": [
    {
     "name": "stdout",
     "output_type": "stream",
     "text": [
      "There are 1 dosage forms of Midazolam prescribed and they are: \n",
      " ['Solution for injection']\n"
     ]
    }
   ],
   "source": [
    "print(f\"There are {len(df_flumazenil.dform_form.unique())} dosage forms of Midazolam prescribed and they are: \\n {df_flumazenil.dform_form.unique()}\")"
   ]
  },
  {
   "cell_type": "markdown",
   "metadata": {},
   "source": [
    "### quantity of dosage forms prescribed"
   ]
  },
  {
   "cell_type": "code",
   "execution_count": 18,
   "metadata": {},
   "outputs": [
    {
     "data": {
      "text/plain": [
       "dform_form\n",
       "Solution for injection    1\n",
       "Name: count, dtype: int64"
      ]
     },
     "execution_count": 18,
     "metadata": {},
     "output_type": "execute_result"
    }
   ],
   "source": [
    "dfd = df_flumazenil.drop_duplicates(subset=[\"vmp_code\", \"dform_form\"])\n",
    "dfd[\"dform_form\"].value_counts()"
   ]
  },
  {
   "cell_type": "code",
   "execution_count": 19,
   "metadata": {},
   "outputs": [
    {
     "name": "stdout",
     "output_type": "stream",
     "text": [
      "There are 1 dosage forms of midazolam\n"
     ]
    },
    {
     "name": "stderr",
     "output_type": "stream",
     "text": [
      "/var/folders/kg/k6g30scn6qn74wmjjrw4hky80000gn/T/ipykernel_94111/1075145481.py:10: UserWarning: set_ticklabels() should only be used with a fixed number of ticks, i.e. after set_ticks() or using a FixedLocator.\n",
      "  plt.gca().set_yticklabels(formatted_labels)\n"
     ]
    },
    {
     "data": {
      "image/png": "[encoded data removed]",
      "text/plain": [
       "<Figure size 1000x1000 with 1 Axes>"
      ]
     },
     "metadata": {},
     "output_type": "display_data"
    }
   ],
   "source": [
    "figure = plt.figure(figsize=(10,10))\n",
    "plt.ticklabel_format(style=\"plain\")\n",
    "plt.ylabel(\"Quantity of each dosage forms prescribed\")\n",
    "\n",
    "print(f\"There are {len(df_flumazenil['dform_form'].unique())} dosage forms of midazolam\")\n",
    "df_flumazenil[\"dform_form\"].value_counts().plot(rot=90)\n",
    "\n",
    "current_values = plt.gca().get_yticks()\n",
    "formatted_labels = [f'{int(value/1000)}K' for value in current_values]\n",
    "plt.gca().set_yticklabels(formatted_labels)\n",
    "\n",
    "plt.title(\"Quantity prescribed per dosage form\")\n",
    "plt.grid()\n",
    "plt.show()"
   ]
  },
  {
   "cell_type": "markdown",
   "metadata": {},
   "source": [
    "### route of administration"
   ]
  },
  {
   "cell_type": "code",
   "execution_count": 20,
   "metadata": {},
   "outputs": [
    {
     "name": "stdout",
     "output_type": "stream",
     "text": [
      "There are 1 dosage forms of midazolam\n"
     ]
    },
    {
     "name": "stderr",
     "output_type": "stream",
     "text": [
      "/var/folders/kg/k6g30scn6qn74wmjjrw4hky80000gn/T/ipykernel_94111/3694905144.py:10: UserWarning: set_ticklabels() should only be used with a fixed number of ticks, i.e. after set_ticks() or using a FixedLocator.\n",
      "  plt.gca().set_yticklabels(formatted_labels)\n"
     ]
    },
    {
     "data": {
      "image/png": "[encoded data removed]",
      "text/plain": [
       "<Figure size 1000x1000 with 1 Axes>"
      ]
     },
     "metadata": {},
     "output_type": "display_data"
    }
   ],
   "source": [
    "figure = plt.figure(figsize=(10,10))\n",
    "plt.ticklabel_format(style=\"plain\")\n",
    "plt.ylabel(\"Quantity of times route chosen\")\n",
    "\n",
    "print(f\"There are {len(df_flumazenil['droute_description'].unique())} dosage forms of midazolam\")\n",
    "df_flumazenil[\"droute_description\"].value_counts().plot(rot=90)\n",
    "\n",
    "current_values = plt.gca().get_yticks()\n",
    "formatted_labels = [f'{int(value/1000)}K' for value in current_values]\n",
    "plt.gca().set_yticklabels(formatted_labels)\n",
    "\n",
    "plt.title(\"Route of administration used\")\n",
    "plt.grid()\n",
    "plt.show()"
   ]
  },
  {
   "cell_type": "markdown",
   "metadata": {},
   "source": [
    "### companies prescribing midazolam and lidocaine combination"
   ]
  },
  {
   "cell_type": "code",
   "execution_count": 21,
   "metadata": {},
   "outputs": [
    {
     "ename": "IndexError",
     "evalue": "index 0 is out of bounds for axis 0 with size 0",
     "output_type": "error",
     "traceback": [
      "\u001b[0;31m---------------------------------------------------------------------------\u001b[0m",
      "\u001b[0;31mIndexError\u001b[0m                                Traceback (most recent call last)",
      "Cell \u001b[0;32mIn[21], line 5\u001b[0m\n\u001b[1;32m      1\u001b[0m plt\u001b[38;5;241m.\u001b[39mfigure(figsize\u001b[38;5;241m=\u001b[39m(\u001b[38;5;241m20\u001b[39m,\u001b[38;5;241m15\u001b[39m))\n\u001b[1;32m      3\u001b[0m midazolam_lidocaine_df \u001b[38;5;241m=\u001b[39m df_flumazenil[df_flumazenil[\u001b[38;5;124m\"\u001b[39m\u001b[38;5;124mvtm_name\u001b[39m\u001b[38;5;124m\"\u001b[39m] \u001b[38;5;241m==\u001b[39m \u001b[38;5;124m\"\u001b[39m\u001b[38;5;124mMidazolam + Lidocaine\u001b[39m\u001b[38;5;124m\"\u001b[39m]\n\u001b[0;32m----> 5\u001b[0m \u001b[43mmidazolam_lidocaine_df\u001b[49m\u001b[38;5;241;43m.\u001b[39;49m\u001b[43mgroupby\u001b[49m\u001b[43m(\u001b[49m\u001b[43m[\u001b[49m\u001b[38;5;124;43m\"\u001b[39;49m\u001b[38;5;124;43mods_name\u001b[39;49m\u001b[38;5;124;43m\"\u001b[39;49m\u001b[43m,\u001b[49m\u001b[43m \u001b[49m\u001b[38;5;124;43m\"\u001b[39;49m\u001b[38;5;124;43mvtm_name\u001b[39;49m\u001b[38;5;124;43m\"\u001b[39;49m\u001b[43m]\u001b[49m\u001b[43m)\u001b[49m\u001b[43m[\u001b[49m\u001b[38;5;124;43m\"\u001b[39;49m\u001b[38;5;124;43mquantity\u001b[39;49m\u001b[38;5;124;43m\"\u001b[39;49m\u001b[43m]\u001b[49m\u001b[38;5;241;43m.\u001b[39;49m\u001b[43msum\u001b[49m\u001b[43m(\u001b[49m\u001b[43m)\u001b[49m\u001b[38;5;241;43m.\u001b[39;49m\u001b[43msort_values\u001b[49m\u001b[43m(\u001b[49m\u001b[43mascending\u001b[49m\u001b[38;5;241;43m=\u001b[39;49m\u001b[38;5;28;43;01mFalse\u001b[39;49;00m\u001b[43m)\u001b[49m\u001b[38;5;241;43m.\u001b[39;49m\u001b[43mplot\u001b[49m\u001b[43m(\u001b[49m\u001b[43mkind\u001b[49m\u001b[38;5;241;43m=\u001b[39;49m\u001b[38;5;124;43m\"\u001b[39;49m\u001b[38;5;124;43mbarh\u001b[39;49m\u001b[38;5;124;43m\"\u001b[39;49m\u001b[43m)\u001b[49m\n\u001b[1;32m      7\u001b[0m plt\u001b[38;5;241m.\u001b[39mgca()\u001b[38;5;241m.\u001b[39minvert_yaxis()\n\u001b[1;32m      8\u001b[0m plt\u001b[38;5;241m.\u001b[39mtitle(\u001b[38;5;124m\"\u001b[39m\u001b[38;5;124mQuantity of Midazolam + Lidocaine combination prescribed per trust\u001b[39m\u001b[38;5;124m\"\u001b[39m)\n",
      "File \u001b[0;32m~/dexter/lib/python3.11/site-packages/pandas/plotting/_core.py:1031\u001b[0m, in \u001b[0;36mPlotAccessor.__call__\u001b[0;34m(self, *args, **kwargs)\u001b[0m\n\u001b[1;32m   1028\u001b[0m             label_name \u001b[38;5;241m=\u001b[39m label_kw \u001b[38;5;129;01mor\u001b[39;00m data\u001b[38;5;241m.\u001b[39mcolumns\n\u001b[1;32m   1029\u001b[0m             data\u001b[38;5;241m.\u001b[39mcolumns \u001b[38;5;241m=\u001b[39m label_name\n\u001b[0;32m-> 1031\u001b[0m \u001b[38;5;28;01mreturn\u001b[39;00m \u001b[43mplot_backend\u001b[49m\u001b[38;5;241;43m.\u001b[39;49m\u001b[43mplot\u001b[49m\u001b[43m(\u001b[49m\u001b[43mdata\u001b[49m\u001b[43m,\u001b[49m\u001b[43m \u001b[49m\u001b[43mkind\u001b[49m\u001b[38;5;241;43m=\u001b[39;49m\u001b[43mkind\u001b[49m\u001b[43m,\u001b[49m\u001b[43m \u001b[49m\u001b[38;5;241;43m*\u001b[39;49m\u001b[38;5;241;43m*\u001b[39;49m\u001b[43mkwargs\u001b[49m\u001b[43m)\u001b[49m\n",
      "File \u001b[0;32m~/dexter/lib/python3.11/site-packages/pandas/plotting/_matplotlib/__init__.py:71\u001b[0m, in \u001b[0;36mplot\u001b[0;34m(data, kind, **kwargs)\u001b[0m\n\u001b[1;32m     69\u001b[0m         kwargs[\u001b[38;5;124m\"\u001b[39m\u001b[38;5;124max\u001b[39m\u001b[38;5;124m\"\u001b[39m] \u001b[38;5;241m=\u001b[39m \u001b[38;5;28mgetattr\u001b[39m(ax, \u001b[38;5;124m\"\u001b[39m\u001b[38;5;124mleft_ax\u001b[39m\u001b[38;5;124m\"\u001b[39m, ax)\n\u001b[1;32m     70\u001b[0m plot_obj \u001b[38;5;241m=\u001b[39m PLOT_CLASSES[kind](data, \u001b[38;5;241m*\u001b[39m\u001b[38;5;241m*\u001b[39mkwargs)\n\u001b[0;32m---> 71\u001b[0m \u001b[43mplot_obj\u001b[49m\u001b[38;5;241;43m.\u001b[39;49m\u001b[43mgenerate\u001b[49m\u001b[43m(\u001b[49m\u001b[43m)\u001b[49m\n\u001b[1;32m     72\u001b[0m plot_obj\u001b[38;5;241m.\u001b[39mdraw()\n\u001b[1;32m     73\u001b[0m \u001b[38;5;28;01mreturn\u001b[39;00m plot_obj\u001b[38;5;241m.\u001b[39mresult\n",
      "File \u001b[0;32m~/dexter/lib/python3.11/site-packages/pandas/plotting/_matplotlib/core.py:460\u001b[0m, in \u001b[0;36mMPLPlot.generate\u001b[0;34m(self)\u001b[0m\n\u001b[1;32m    458\u001b[0m \u001b[38;5;28;01mfor\u001b[39;00m ax \u001b[38;5;129;01min\u001b[39;00m \u001b[38;5;28mself\u001b[39m\u001b[38;5;241m.\u001b[39maxes:\n\u001b[1;32m    459\u001b[0m     \u001b[38;5;28mself\u001b[39m\u001b[38;5;241m.\u001b[39m_post_plot_logic_common(ax, \u001b[38;5;28mself\u001b[39m\u001b[38;5;241m.\u001b[39mdata)\n\u001b[0;32m--> 460\u001b[0m     \u001b[38;5;28;43mself\u001b[39;49m\u001b[38;5;241;43m.\u001b[39;49m\u001b[43m_post_plot_logic\u001b[49m\u001b[43m(\u001b[49m\u001b[43max\u001b[49m\u001b[43m,\u001b[49m\u001b[43m \u001b[49m\u001b[38;5;28;43mself\u001b[39;49m\u001b[38;5;241;43m.\u001b[39;49m\u001b[43mdata\u001b[49m\u001b[43m)\u001b[49m\n",
      "File \u001b[0;32m~/dexter/lib/python3.11/site-packages/pandas/plotting/_matplotlib/core.py:1757\u001b[0m, in \u001b[0;36mBarPlot._post_plot_logic\u001b[0;34m(self, ax, data)\u001b[0m\n\u001b[1;32m   1754\u001b[0m \u001b[38;5;28;01melse\u001b[39;00m:\n\u001b[1;32m   1755\u001b[0m     str_index \u001b[38;5;241m=\u001b[39m [pprint_thing(key) \u001b[38;5;28;01mfor\u001b[39;00m key \u001b[38;5;129;01min\u001b[39;00m \u001b[38;5;28mrange\u001b[39m(data\u001b[38;5;241m.\u001b[39mshape[\u001b[38;5;241m0\u001b[39m])]\n\u001b[0;32m-> 1757\u001b[0m s_edge \u001b[38;5;241m=\u001b[39m \u001b[38;5;28;43mself\u001b[39;49m\u001b[38;5;241;43m.\u001b[39;49m\u001b[43max_pos\u001b[49m\u001b[43m[\u001b[49m\u001b[38;5;241;43m0\u001b[39;49m\u001b[43m]\u001b[49m \u001b[38;5;241m-\u001b[39m \u001b[38;5;241m0.25\u001b[39m \u001b[38;5;241m+\u001b[39m \u001b[38;5;28mself\u001b[39m\u001b[38;5;241m.\u001b[39mlim_offset\n\u001b[1;32m   1758\u001b[0m e_edge \u001b[38;5;241m=\u001b[39m \u001b[38;5;28mself\u001b[39m\u001b[38;5;241m.\u001b[39max_pos[\u001b[38;5;241m-\u001b[39m\u001b[38;5;241m1\u001b[39m] \u001b[38;5;241m+\u001b[39m \u001b[38;5;241m0.25\u001b[39m \u001b[38;5;241m+\u001b[39m \u001b[38;5;28mself\u001b[39m\u001b[38;5;241m.\u001b[39mbar_width \u001b[38;5;241m+\u001b[39m \u001b[38;5;28mself\u001b[39m\u001b[38;5;241m.\u001b[39mlim_offset\n\u001b[1;32m   1760\u001b[0m \u001b[38;5;28mself\u001b[39m\u001b[38;5;241m.\u001b[39m_decorate_ticks(ax, \u001b[38;5;28mself\u001b[39m\u001b[38;5;241m.\u001b[39m_get_index_name(), str_index, s_edge, e_edge)\n",
      "\u001b[0;31mIndexError\u001b[0m: index 0 is out of bounds for axis 0 with size 0"
     ]
    },
    {
     "data": {
      "image/png": "[encoded data removed]",
      "text/plain": [
       "<Figure size 2000x1500 with 1 Axes>"
      ]
     },
     "metadata": {},
     "output_type": "display_data"
    }
   ],
   "source": [
    "plt.figure(figsize=(20,15))\n",
    "\n",
    "midazolam_lidocaine_df = df_flumazenil[df_flumazenil[\"vtm_name\"] == \"Midazolam + Lidocaine\"]\n",
    "\n",
    "midazolam_lidocaine_df.groupby([\"ods_name\", \"vtm_name\"])[\"quantity\"].sum().sort_values(ascending=False).plot(kind=\"barh\")\n",
    "\n",
    "plt.gca().invert_yaxis()\n",
    "plt.title(\"Quantity of Midazolam + Lidocaine combination prescribed per trust\")\n",
    "plt.grid()\n",
    "plt.show()"
   ]
  },
  {
   "cell_type": "markdown",
   "metadata": {},
   "source": [
    "### cost of midazolam per region"
   ]
  },
  {
   "cell_type": "code",
   "execution_count": null,
   "metadata": {},
   "outputs": [],
   "source": [
    "plt.figure(figsize=(15,15))\n",
    "\n",
    "df_flumazenil.groupby(\"region\")[\"indicative_cost\"].sum().plot(kind='bar')\n",
    "current_values = plt.gca().get_yticks()\n",
    "formatted_labels = [f'{int(value/1000000)}M' for value in current_values]\n",
    "plt.gca().set_yticklabels(formatted_labels)\n",
    "plt.title(\"Cost of midazolam prescribed per region\")\n",
    "# plt.grid()\n",
    "plt.show()"
   ]
  },
  {
   "cell_type": "markdown",
   "metadata": {},
   "source": [
    "### quantity of midazolam per region"
   ]
  },
  {
   "cell_type": "code",
   "execution_count": null,
   "metadata": {},
   "outputs": [],
   "source": [
    "plt.figure(figsize=(15,15))\n",
    "\n",
    "df_flumazenil.groupby(\"region\")[\"quantity\"].sum().plot(kind='bar')\n",
    "current_values = plt.gca().get_yticks()\n",
    "formatted_labels = [f'{int(value/1000000)}M' for value in current_values]\n",
    "plt.gca().set_yticklabels(formatted_labels)\n",
    "plt.title(\"Quantity of midazolam prescribed per region\")\n",
    "# plt.grid()\n",
    "plt.show()"
   ]
  },
  {
   "cell_type": "markdown",
   "metadata": {},
   "source": [
    "### cost of midazolam prescribed per trust"
   ]
  },
  {
   "cell_type": "code",
   "execution_count": null,
   "metadata": {},
   "outputs": [],
   "source": [
    "plt.figure(figsize=(20,15))\n",
    "\n",
    "df_flumazenil.groupby(\"ods_name\")[\"indicative_cost\"].sum().sort_values(ascending=False)[:20].plot(kind=\"barh\")\n",
    "\n",
    "current_values = plt.gca().get_xticks()\n",
    "formatted_labels = [f'{int(value/100000)}K' for value in current_values]\n",
    "plt.gca().set_xticklabels(formatted_labels)\n",
    "plt.gca().invert_yaxis()\n",
    "plt.title(\"Cost of midazolam prescribed per trust\")\n",
    "plt.grid()\n",
    "plt.show()"
   ]
  },
  {
   "cell_type": "markdown",
   "metadata": {},
   "source": [
    "### quantity of midazolam prescribed per trust"
   ]
  },
  {
   "cell_type": "code",
   "execution_count": null,
   "metadata": {},
   "outputs": [],
   "source": [
    "plt.figure(figsize=(20,15))\n",
    "\n",
    "df_flumazenil.groupby(\"ods_name\")[\"quantity\"].sum().sort_values(ascending=False)[:20].plot(kind=\"barh\")\n",
    "\n",
    "current_values = plt.gca().get_xticks()\n",
    "formatted_labels = [f'{int(value/1000000)}M' for value in current_values]\n",
    "plt.gca().set_xticklabels(formatted_labels)\n",
    "plt.gca().invert_yaxis()\n",
    "plt.title(\"Quantity of midazolam prescribed per trust\")\n",
    "plt.grid()\n",
    "plt.show()"
   ]
  },
  {
   "cell_type": "code",
   "execution_count": null,
   "metadata": {},
   "outputs": [],
   "source": [
    "quantity_per_trust = df_flumazenil.groupby(\"ods_name\")[\"quantity\"].sum().sort_values(ascending=False)\n",
    "\n",
    "quantity_per_trust.columns = [\"Trust\", \"Quantity Prescribed\"]\n",
    "\n",
    "quantity_per_trust.tail()"
   ]
  },
  {
   "cell_type": "markdown",
   "metadata": {},
   "source": [
    "cost of midazolam per formulation"
   ]
  },
  {
   "cell_type": "code",
   "execution_count": null,
   "metadata": {},
   "outputs": [],
   "source": [
    "figure = plt.figure(figsize=(20,15))\n",
    "\n",
    "# plt.ticklabel_format(style=\"plain\")\n",
    "plt.xlabel(\"Indicative Cost\")\n",
    "\n",
    "df_flumazenil.groupby(\"vmp_name\")[\"indicative_cost\"].sum().sort_values(ascending=True).plot(kind=\"barh\")\n",
    "\n",
    "current_values = plt.gca().get_xticks()\n",
    "formatted_labels = [f'{int(value/1000000)}M' for value in current_values]\n",
    "plt.gca().set_xticklabels(formatted_labels)\n",
    "\n",
    "plt.title(\"Indicative cost of midazolam per formulation\")\n",
    "plt.grid()\n",
    "plt.show()"
   ]
  },
  {
   "cell_type": "markdown",
   "metadata": {},
   "source": [
    "yearly usage of midazolam per trust"
   ]
  },
  {
   "cell_type": "code",
   "execution_count": null,
   "metadata": {},
   "outputs": [],
   "source": [
    "# fig, ax = plt.subplots(figsize=(10,10))\n",
    "\n",
    "# ax.set_ylabel(\"Quantity prescribed\")\n",
    "# ax.set_xlabel(\"Year\")\n",
    "\n",
    "ax = df_flumazenil.groupby([\"year\", \"ods_name\"])[\"quantity\"].sum().sort_values(ascending=False)[:40].unstack().plot(kind=\"barh\", figsize=(30,30), stacked=True)\n",
    "# plt.gca().invert_yaxis()\n",
    "\n",
    "current_values = plt.gca().get_xticks()\n",
    "formatted_labels = [f'{int(value/1000000)}M' for value in current_values]\n",
    "plt.gca().set_xticklabels(formatted_labels)\n",
    "\n",
    "plt.title(\"Yearly usage of midazolam per trust\")\n",
    "plt.grid()\n",
    "plt.show()"
   ]
  },
  {
   "cell_type": "markdown",
   "metadata": {},
   "source": [
    "yearly usage of midazolam"
   ]
  },
  {
   "cell_type": "code",
   "execution_count": null,
   "metadata": {},
   "outputs": [],
   "source": [
    "fig, ax = plt.subplots(figsize=(10,10))\n",
    "\n",
    "ax.set_ylabel(\"Quantity prescribed\")\n",
    "ax.set_xlabel(\"Year\")\n",
    "\n",
    "df_flumazenil.groupby(\"year\")[\"quantity\"].sum().plot()\n",
    "\n",
    "current_values = plt.gca().get_yticks()\n",
    "formatted_labels = [f'{int(value/1000000)}M' for value in current_values]\n",
    "plt.gca().set_yticklabels(formatted_labels)\n",
    "\n",
    "plt.title(\"Quantity of midazolam prescribed per year\")\n",
    "plt.grid()\n",
    "plt.show()"
   ]
  },
  {
   "cell_type": "markdown",
   "metadata": {},
   "source": [
    "monthly usage of midazolam per trust"
   ]
  },
  {
   "cell_type": "code",
   "execution_count": null,
   "metadata": {},
   "outputs": [],
   "source": [
    "df_flumazenil.groupby([\"month\", \"ods_name\"])[\"quantity\"].sum().sort_values(ascending=False)[:40].unstack().plot(kind=\"barh\", figsize=(30,30), stacked=True)\n",
    "\n",
    "current_values = plt.gca().get_xticks()\n",
    "formatted_labels = [f'{int(value/1000000)}M' for value in current_values]\n",
    "plt.gca().set_xticklabels(formatted_labels)\n",
    "\n",
    "plt.title(\"Monthly usage of midazolam per trust\")\n",
    "plt.grid()\n",
    "plt.show()"
   ]
  },
  {
   "cell_type": "markdown",
   "metadata": {},
   "source": [
    "formulations mostly used"
   ]
  },
  {
   "cell_type": "code",
   "execution_count": null,
   "metadata": {},
   "outputs": [],
   "source": [
    "figure = plt.figure(figsize=(10,10))\n",
    "plt.ticklabel_format(style=\"plain\")\n",
    "plt.ylabel(\"Quantity of formulations prescribed\")\n",
    "# plt.xlabel(\"Year\")\n",
    "\n",
    "print(f\"There are {len(df_flumazenil['vmp_name'].unique())} VMPs of midazolam prescribed\")\n",
    "df_flumazenil[\"vmp_name\"].value_counts().plot(kind=\"bar\", figsize=(17, 10))\n",
    "\n",
    "current_values = plt.gca().get_yticks()\n",
    "formatted_labels = [f'{int(value/1000)}K' for value in current_values]\n",
    "plt.gca().set_yticklabels(formatted_labels)\n",
    "\n",
    "plt.title(\"Quantity prescribed per midazolam formulation\")\n",
    "plt.grid()\n",
    "plt.show()"
   ]
  },
  {
   "cell_type": "code",
   "execution_count": null,
   "metadata": {},
   "outputs": [],
   "source": [
    "df_flumazenil[\"vmp_name\"].value_counts().sort_values(ascending=False)[:10]"
   ]
  }
 ],
 "metadata": {
  "kernelspec": {
   "display_name": "dexter",
   "language": "python",
   "name": "python3"
  },
  "language_info": {
   "codemirror_mode": {
    "name": "ipython",
    "version": 3
   },
   "file_extension": ".py",
   "mimetype": "text/x-python",
   "name": "python",
   "nbconvert_exporter": "python",
   "pygments_lexer": "ipython3",
   "version": "3.11.6"
  }
 },
 "nbformat": 4,
 "nbformat_minor": 2
}
